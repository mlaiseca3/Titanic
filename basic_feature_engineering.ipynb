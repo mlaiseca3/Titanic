{
 "cells": [
  {
   "cell_type": "markdown",
   "metadata": {},
   "source": [
    "# Basic Feature Engineering for Titanic Dataset"
   ]
  },
  {
   "cell_type": "code",
   "execution_count": 1,
   "metadata": {},
   "outputs": [],
   "source": [
    "import numpy as np # linear algebra\n",
    "import pandas as pd # data processing, CSV file I/O (e.g. pd.read_csv)\n",
    "import re # regex "
   ]
  },
  {
   "cell_type": "code",
   "execution_count": 2,
   "metadata": {},
   "outputs": [
    {
     "data": {
      "text/html": [
       "<div>\n",
       "<style scoped>\n",
       "    .dataframe tbody tr th:only-of-type {\n",
       "        vertical-align: middle;\n",
       "    }\n",
       "\n",
       "    .dataframe tbody tr th {\n",
       "        vertical-align: top;\n",
       "    }\n",
       "\n",
       "    .dataframe thead th {\n",
       "        text-align: right;\n",
       "    }\n",
       "</style>\n",
       "<table border=\"1\" class=\"dataframe\">\n",
       "  <thead>\n",
       "    <tr style=\"text-align: right;\">\n",
       "      <th></th>\n",
       "      <th>PassengerId</th>\n",
       "      <th>Survived</th>\n",
       "      <th>Pclass</th>\n",
       "      <th>Name</th>\n",
       "      <th>Sex</th>\n",
       "      <th>Age</th>\n",
       "      <th>SibSp</th>\n",
       "      <th>Parch</th>\n",
       "      <th>Ticket</th>\n",
       "      <th>Fare</th>\n",
       "      <th>Cabin</th>\n",
       "      <th>Embarked</th>\n",
       "    </tr>\n",
       "  </thead>\n",
       "  <tbody>\n",
       "    <tr>\n",
       "      <th>0</th>\n",
       "      <td>1</td>\n",
       "      <td>0</td>\n",
       "      <td>3</td>\n",
       "      <td>Braund, Mr. Owen Harris</td>\n",
       "      <td>male</td>\n",
       "      <td>22.0</td>\n",
       "      <td>1</td>\n",
       "      <td>0</td>\n",
       "      <td>A/5 21171</td>\n",
       "      <td>7.2500</td>\n",
       "      <td>NaN</td>\n",
       "      <td>S</td>\n",
       "    </tr>\n",
       "    <tr>\n",
       "      <th>1</th>\n",
       "      <td>2</td>\n",
       "      <td>1</td>\n",
       "      <td>1</td>\n",
       "      <td>Cumings, Mrs. John Bradley (Florence Briggs Th...</td>\n",
       "      <td>female</td>\n",
       "      <td>38.0</td>\n",
       "      <td>1</td>\n",
       "      <td>0</td>\n",
       "      <td>PC 17599</td>\n",
       "      <td>71.2833</td>\n",
       "      <td>C85</td>\n",
       "      <td>C</td>\n",
       "    </tr>\n",
       "    <tr>\n",
       "      <th>2</th>\n",
       "      <td>3</td>\n",
       "      <td>1</td>\n",
       "      <td>3</td>\n",
       "      <td>Heikkinen, Miss. Laina</td>\n",
       "      <td>female</td>\n",
       "      <td>26.0</td>\n",
       "      <td>0</td>\n",
       "      <td>0</td>\n",
       "      <td>STON/O2. 3101282</td>\n",
       "      <td>7.9250</td>\n",
       "      <td>NaN</td>\n",
       "      <td>S</td>\n",
       "    </tr>\n",
       "    <tr>\n",
       "      <th>3</th>\n",
       "      <td>4</td>\n",
       "      <td>1</td>\n",
       "      <td>1</td>\n",
       "      <td>Futrelle, Mrs. Jacques Heath (Lily May Peel)</td>\n",
       "      <td>female</td>\n",
       "      <td>35.0</td>\n",
       "      <td>1</td>\n",
       "      <td>0</td>\n",
       "      <td>113803</td>\n",
       "      <td>53.1000</td>\n",
       "      <td>C123</td>\n",
       "      <td>S</td>\n",
       "    </tr>\n",
       "    <tr>\n",
       "      <th>4</th>\n",
       "      <td>5</td>\n",
       "      <td>0</td>\n",
       "      <td>3</td>\n",
       "      <td>Allen, Mr. William Henry</td>\n",
       "      <td>male</td>\n",
       "      <td>35.0</td>\n",
       "      <td>0</td>\n",
       "      <td>0</td>\n",
       "      <td>373450</td>\n",
       "      <td>8.0500</td>\n",
       "      <td>NaN</td>\n",
       "      <td>S</td>\n",
       "    </tr>\n",
       "  </tbody>\n",
       "</table>\n",
       "</div>"
      ],
      "text/plain": [
       "   PassengerId  Survived  Pclass  \\\n",
       "0            1         0       3   \n",
       "1            2         1       1   \n",
       "2            3         1       3   \n",
       "3            4         1       1   \n",
       "4            5         0       3   \n",
       "\n",
       "                                                Name     Sex   Age  SibSp  \\\n",
       "0                            Braund, Mr. Owen Harris    male  22.0      1   \n",
       "1  Cumings, Mrs. John Bradley (Florence Briggs Th...  female  38.0      1   \n",
       "2                             Heikkinen, Miss. Laina  female  26.0      0   \n",
       "3       Futrelle, Mrs. Jacques Heath (Lily May Peel)  female  35.0      1   \n",
       "4                           Allen, Mr. William Henry    male  35.0      0   \n",
       "\n",
       "   Parch            Ticket     Fare Cabin Embarked  \n",
       "0      0         A/5 21171   7.2500   NaN        S  \n",
       "1      0          PC 17599  71.2833   C85        C  \n",
       "2      0  STON/O2. 3101282   7.9250   NaN        S  \n",
       "3      0            113803  53.1000  C123        S  \n",
       "4      0            373450   8.0500   NaN        S  "
      ]
     },
     "execution_count": 2,
     "metadata": {},
     "output_type": "execute_result"
    }
   ],
   "source": [
    "train_data = pd.read_csv(\"/Users/mario/OneDrive/Repositories/Github/Titanic/data/train.csv\")\n",
    "train_data.head()"
   ]
  },
  {
   "cell_type": "markdown",
   "metadata": {},
   "source": [
    "## Titles\n",
    "\n",
    "There is more information we can extract from the Name feature such as the title of the person. The titles found in the Name feature will all be reduced to Mrs, Miss, Mr, and Master. To do this we will use regex to extract the information. Reguluar expressions (regex) is a technique that can search for patterns in text using a sequence of characters. Wielding a tool like regex can greatly help a data scientist in feature engineering. Python provides a module called 're' to facilitate regex. \n",
    "\n",
    "The following function are used to implement the regex logic to get the titles from the Name feature. "
   ]
  },
  {
   "cell_type": "code",
   "execution_count": 3,
   "metadata": {},
   "outputs": [],
   "source": [
    "# extract the title and reduce them all to Mrs, Miss, Mr and Master.\n",
    "def get_title(txt):\n",
    "    # find items that have ',' followed by some text and ending in '.'\n",
    "    x = re.search(r\"\\,.*\\.\", txt)\n",
    "    if x:\n",
    "        value = x.group()\n",
    "        # find text after ',' and ' '\n",
    "        x2 = re.search(r\"(?<=\\,\\s).*\\.\", value)\n",
    "        value2 = x2.group()\n",
    "        # find text till the first '.'\n",
    "        x3 = re.search(r\"\\b\\w+\\b(?=\\.)\", value2)\n",
    "        return x3.group()\n",
    "\n",
    "# apply get_title() function to each value from Name feature and then save to new Title feature\n",
    "train_data['Title']=train_data['Name'].map(lambda x: get_title(x))"
   ]
  },
  {
   "cell_type": "code",
   "execution_count": 4,
   "metadata": {},
   "outputs": [
    {
     "name": "stdout",
     "output_type": "stream",
     "text": [
      "['Mr' 'Mrs' 'Miss' 'Master' 'Don' 'Rev' 'Dr' 'Mme' 'Ms' 'Major' 'Lady'\n",
      " 'Sir' 'Mlle' 'Col' 'Capt' 'Countess' 'Jonkheer']\n"
     ]
    }
   ],
   "source": [
    "# list all unique titles from new Title feature\n",
    "# these unique titles will be used to construct replace_titles() logic\n",
    "print(train_data['Title'].unique())"
   ]
  },
  {
   "cell_type": "code",
   "execution_count": 5,
   "metadata": {},
   "outputs": [],
   "source": [
    "# add empty column to dataframe\n",
    "train_data['ReplacedTitles'] = np.nan\n",
    "\n",
    "# replace the titles with reduced version\n",
    "def replace_titles(x):\n",
    "    title = x['Title']\n",
    "    if title in ['Don', 'Major', 'Capt', 'Jonkheer', 'Rev', 'Col']:\n",
    "        return 'Mr'\n",
    "    elif title in ['Countess', 'Mme']:\n",
    "        return 'Mrs'\n",
    "    elif title in ['Mlle', 'Ms']:\n",
    "        return 'Miss'\n",
    "    elif title =='Dr':\n",
    "        if x['Sex']=='Male':\n",
    "            return 'Mr'\n",
    "        else:\n",
    "            return 'Mrs'\n",
    "    else:\n",
    "        return title\n",
    "\n",
    "# apply replace_titles() function to\n",
    "train_data['ReplacedTitles']=train_data.apply(replace_titles, axis=1)"
   ]
  },
  {
   "cell_type": "markdown",
   "metadata": {},
   "source": [
    "## Deck\n",
    "\n",
    "Similarily, the he Cabin feature has potential for additional feature engineering. When analyzing the data only 1st class passengers have cabins and the rest of are 'unknown'. A cabin number is represented with a letter and a number, such as 'C85'. Sometimes there are more than one cabin number from each row, such as 'C23 C25 C27'. However, in this instance we will extract the first cabin deck letter. With a quick glance of the data in Excel no row with multiple cabin numbers are on different decks. The assumption moving forward is that we can safely pick the deck from the first cabin number. There are other weird artifacts for the cabin numbers, some don't even have a number next to the deck and for those we will will ignore unless they have number associated with the deck. Example: 'F G73', the 'F' will be ignored but the 'G' will be taken. "
   ]
  },
  {
   "cell_type": "code",
   "execution_count": 6,
   "metadata": {},
   "outputs": [],
   "source": [
    "# add empty column to dataframe\n",
    "train_data['Deck'] = np.nan\n",
    "\n",
    "def get_deck(txt):\n",
    "    if type(txt) == str:\n",
    "        # print(\"not a nan\")\n",
    "        # print(txt)\n",
    "        x1 = re.search(r\"[A-Z]{1}[0-9]{1,3}\", txt)\n",
    "        if x1 != None:\n",
    "            value = x1.group()\n",
    "            x2 = re.search(r\"[A-Z]{1}\", value)\n",
    "            return x2.group()\n",
    "    return \"unknown\"\n",
    "\n",
    "train_data['Deck']=train_data['Cabin'].map(lambda x: get_deck(x))"
   ]
  },
  {
   "cell_type": "code",
   "execution_count": 7,
   "metadata": {},
   "outputs": [
    {
     "name": "stdout",
     "output_type": "stream",
     "text": [
      "     PassengerId  Survived  Pclass  \\\n",
      "75            76         0       3   \n",
      "715          716         0       3   \n",
      "\n",
      "                                           Name   Sex   Age  SibSp  Parch  \\\n",
      "75                      Moen, Mr. Sigurd Hansen  male  25.0      0      0   \n",
      "715  Soholt, Mr. Peter Andreas Lauritz Andersen  male  19.0      0      0   \n",
      "\n",
      "     Ticket  Fare  Cabin Embarked Title ReplacedTitles Deck  \n",
      "75   348123  7.65  F G73        S    Mr             Mr    G  \n",
      "715  348124  7.65  F G73        S    Mr             Mr    G  \n"
     ]
    }
   ],
   "source": [
    "# tesing edge case. It returns 'G' when after processing cabin 'F G73'\n",
    "x = train_data[train_data['Cabin'] == 'F G73']\n",
    "print(x)"
   ]
  },
  {
   "cell_type": "code",
   "execution_count": 8,
   "metadata": {},
   "outputs": [
    {
     "name": "stdout",
     "output_type": "stream",
     "text": [
      "['unknown' 'C' 'E' 'G' 'D' 'A' 'B' 'F']\n"
     ]
    }
   ],
   "source": [
    "# list all unique titles from new Title feature\n",
    "# these unique titles will be used to construct replace_titles() logic\n",
    "print(train_data['Deck'].unique())"
   ]
  },
  {
   "cell_type": "markdown",
   "metadata": {},
   "source": [
    "## Family Size\n",
    "\n",
    "In a disaster like the Titanic there can be a difference in who survices based on the family size or solo travelers. Such information can extracted by creating a linear combination of features. A new feature for family size may be helpful for decision trees that have a difficult time modeling such relationships. \n"
   ]
  },
  {
   "cell_type": "code",
   "execution_count": null,
   "metadata": {},
   "outputs": [],
   "source": []
  }
 ],
 "metadata": {
  "kernelspec": {
   "display_name": "Python 3.10.6 64-bit",
   "language": "python",
   "name": "python3"
  },
  "language_info": {
   "codemirror_mode": {
    "name": "ipython",
    "version": 3
   },
   "file_extension": ".py",
   "mimetype": "text/x-python",
   "name": "python",
   "nbconvert_exporter": "python",
   "pygments_lexer": "ipython3",
   "version": "3.10.6"
  },
  "orig_nbformat": 4,
  "vscode": {
   "interpreter": {
    "hash": "b0fa6594d8f4cbf19f97940f81e996739fb7646882a419484c72d19e05852a7e"
   }
  }
 },
 "nbformat": 4,
 "nbformat_minor": 2
}
